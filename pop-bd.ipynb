{
 "cells": [
  {
   "cell_type": "code",
   "execution_count": null,
   "metadata": {},
   "outputs": [],
   "source": [
    "pip install Faker"
   ]
  },
  {
   "cell_type": "markdown",
   "metadata": {},
   "source": [
    "# Criação dos dados aleatórios da tabela: **usuarios**\n",
    "## Existem 3 métodos aqui: \n",
    "### 1. Cria um .csv com dados aleatórios;\n",
    "### 2. Printa os comandos de SQL para implementar diretamente no PostgreSQL;\n",
    "### 3. Cria um arquivo já em .sql para executar no Banco de Dados com os dados gerados;\n",
    "### *Abaixo temos os 3 exemplos para a criação dos dados aleatórios dentro do Banco de Dados para a tabela **usuarios**, mas iremos seguir apenas com o método \"3.\" para fins de implementações programáticas nas outras tabelas!*"
   ]
  },
  {
   "cell_type": "markdown",
   "metadata": {},
   "source": [
    "## Rodar os códigos abaixo somente se o Banco de Dados estiver vazio!"
   ]
  },
  {
   "cell_type": "code",
   "execution_count": null,
   "metadata": {},
   "outputs": [],
   "source": [
    "#Exporta um .csv com os dados gerados\n",
    "\n",
    "import csv\n",
    "import random\n",
    "from faker import Faker\n",
    "from datetime import datetime, timedelta\n",
    "\n",
    "# Configuração do Faker\n",
    "faker = Faker()\n",
    "\n",
    "# Função para gerar um CPF válido\n",
    "def gerar_cpf():\n",
    "    cpf = ''.join([str(random.randint(0, 9)) for _ in range(9)])\n",
    "    cpf += str((sum([int(cpf[i]) * (10 - i) for i in range(9)]) * 10) % 11 % 10)\n",
    "    cpf += str((sum([int(cpf[i]) * (11 - i) for i in range(9)]) * 10) % 11 % 10)\n",
    "    return cpf\n",
    "\n",
    "# Função para gerar uma data de nascimento válida\n",
    "def gerar_data_nascimento():\n",
    "    data_inicial = datetime.now() - timedelta(days=365*80)  # 80 anos atrás\n",
    "    data_final = datetime.now() - timedelta(days=365*18)  # 18 anos atrás\n",
    "    return faker.date_time_between(start_date=data_inicial, end_date=data_final).strftime('%Y-%m-%d')\n",
    "\n",
    "# Função para gerar dados\n",
    "def gerar_dados(num_registros):\n",
    "    dados = []\n",
    "    for _ in range(num_registros):\n",
    "        id = faker.random_number(digits=5)\n",
    "        cpf = gerar_cpf()\n",
    "        nome = faker.name()\n",
    "        email = faker.email()\n",
    "        senha = faker.password()\n",
    "        data_nascimento = gerar_data_nascimento()\n",
    "        tipo_conta = random.choice(['Idoso', 'Familiar', 'Prestador'])\n",
    "        id_responsavel = faker.random_number(digits=5) if tipo_conta != 'Idoso' else ''\n",
    "        contato_emergencia = faker.phone_number()\n",
    "        dados.append([id, cpf, nome, email, senha, data_nascimento, tipo_conta, id_responsavel, contato_emergencia])\n",
    "    return dados\n",
    "\n",
    "# Função para escrever os dados em um arquivo CSV\n",
    "def escrever_csv(nome_arquivo, dados):\n",
    "    with open(nome_arquivo, 'w', newline='') as arquivo_csv:\n",
    "        escritor_csv = csv.writer(arquivo_csv)\n",
    "        escritor_csv.writerow(['id', 'cpf', 'nome', 'email', 'senha', 'data_nascimento', 'tipo_conta', 'id_responsavel', 'contato_emergencia'])\n",
    "        escritor_csv.writerows(dados)\n",
    "\n",
    "# Gerar dados\n",
    "dados = gerar_dados(100)\n",
    "\n",
    "# Escrever dados em um arquivo CSV\n",
    "escrever_csv('dados_usuarios.csv', dados)\n",
    "\n",
    "print(\"Dados gerados e salvos em 'dados_usuarios.csv'\")"
   ]
  },
  {
   "cell_type": "code",
   "execution_count": null,
   "metadata": {},
   "outputs": [],
   "source": [
    "#O output é um código SQL para implementar os dados gerados - Executa os prints do código\n",
    "\n",
    "import random\n",
    "from faker import Faker\n",
    "from datetime import datetime, timedelta\n",
    "\n",
    "# Configuração do Faker\n",
    "faker = Faker()\n",
    "\n",
    "# Função para gerar um CPF válido\n",
    "def gerar_cpf():\n",
    "    cpf = ''.join([str(random.randint(0, 9)) for _ in range(9)])\n",
    "    cpf += str((sum([int(cpf[i]) * (10 - i) for i in range(9)]) * 10) % 11 % 10)\n",
    "    cpf += str((sum([int(cpf[i]) * (11 - i) for i in range(9)]) * 10) % 11 % 10)\n",
    "    return cpf\n",
    "\n",
    "# Função para gerar uma data de nascimento válida\n",
    "def gerar_data_nascimento():\n",
    "    data_inicial = datetime.now() - timedelta(days=365*80)  # 80 anos atrás\n",
    "    data_final = datetime.now() - timedelta(days=365*18)  # 18 anos atrás\n",
    "    return faker.date_time_between(start_date=data_inicial, end_date=data_final).strftime('%Y-%m-%d')\n",
    "\n",
    "# Função para gerar dados\n",
    "def gerar_dados(num_registros):\n",
    "    dados = []\n",
    "    for _ in range(num_registros):\n",
    "        id = faker.random_number(digits=5)\n",
    "        cpf = gerar_cpf()\n",
    "        nome = faker.name()\n",
    "        email = faker.email()\n",
    "        senha = faker.password()\n",
    "        data_nascimento = gerar_data_nascimento()\n",
    "        tipo_conta = random.choice(['Idoso', 'Familiar', 'Prestador'])\n",
    "        id_responsavel = faker.random_number(digits=5) if tipo_conta != 'Idoso' else 'NULL'\n",
    "        contato_emergencia = faker.phone_number()\n",
    "        dados.append((id, cpf, nome, email, senha, data_nascimento, tipo_conta, id_responsavel, contato_emergencia))\n",
    "    return dados\n",
    "\n",
    "# Gerar dados\n",
    "dados = gerar_dados(100)\n",
    "\n",
    "# Gerar script SQL para inserir os dados\n",
    "script_sql = \"INSERT INTO usuarios (id, cpf, nome, email, senha, data_nascimento, tipo_conta, id_responsavel, contato_emergencia) VALUES\\n\"\n",
    "for dado in dados:\n",
    "    script_sql += f\"({dado[0]}, '{dado[1]}', '{dado[2]}', '{dado[3]}', '{dado[4]}', '{dado[5]}', '{dado[6]}', {dado[7]}, '{dado[8]}'),\\n\"\n",
    "\n",
    "# Remover a última vírgula e adicionar ponto e vírgula no final\n",
    "script_sql = script_sql.rstrip(',\\n') + ';'\n",
    "\n",
    "print(script_sql)"
   ]
  },
  {
   "cell_type": "markdown",
   "metadata": {},
   "source": [
    "# Criação dos dados aleatórios da tabela: **usuario**"
   ]
  },
  {
   "cell_type": "code",
   "execution_count": 118,
   "metadata": {},
   "outputs": [
    {
     "name": "stdout",
     "output_type": "stream",
     "text": [
      "Script SQL gerado e salvo em 'script_insert.sql'\n"
     ]
    }
   ],
   "source": [
    "#O output é um código SQL para implementar os dados gerados - Cria um arquivo já em .sql para criar a tabela\n",
    "\n",
    "import random\n",
    "from faker import Faker\n",
    "from datetime import datetime, timedelta\n",
    "\n",
    "# Configuração do Faker\n",
    "faker = Faker()\n",
    "\n",
    "# Função para gerar um CPF válido\n",
    "def gerar_cpf():\n",
    "    cpf = ''.join([str(random.randint(0, 9)) for _ in range(9)])\n",
    "    cpf += str((sum([int(cpf[i]) * (10 - i) for i in range(9)]) * 10) % 11 % 10)\n",
    "    cpf += str((sum([int(cpf[i]) * (11 - i) for i in range(9)]) * 10) % 11 % 10)\n",
    "    return cpf\n",
    "\n",
    "# Função para gerar uma data de nascimento válida\n",
    "def gerar_data_nascimento():\n",
    "    data_inicial = datetime.now() - timedelta(days=365*80)  # 80 anos atrás\n",
    "    data_final = datetime.now() - timedelta(days=365*18)  # 18 anos atrás\n",
    "    return faker.date_time_between(start_date=data_inicial, end_date=data_final).strftime('%Y-%m-%d')\n",
    "\n",
    "# Função para gerar uma senha aleatória com pelo menos 8 caracteres\n",
    "def gerar_senha():\n",
    "    return faker.password(length=random.randint(8, 20))\n",
    "\n",
    "# Função para gerar dados\n",
    "def gerar_dados(num_registros):\n",
    "    dados = []\n",
    "    for _ in range(num_registros):\n",
    "        id = faker.random_number(digits=5)\n",
    "        cpf = gerar_cpf()\n",
    "        nome = faker.name()\n",
    "        email = faker.email()\n",
    "        senha = gerar_senha()\n",
    "        data_nascimento = gerar_data_nascimento()\n",
    "        tipo_conta = random.choice(['Idoso', 'Familiar', 'Prestador'])\n",
    "        id_responsavel = faker.random_number(digits=5) if tipo_conta != 'Idoso' else 'NULL'\n",
    "        contato_emergencia = faker.phone_number()[:20]\n",
    "        dados.append((id, cpf, nome, email, senha, data_nascimento, tipo_conta, id_responsavel, contato_emergencia))\n",
    "    return dados\n",
    "\n",
    "# Gerar dados\n",
    "dados = gerar_dados(100)\n",
    "\n",
    "# Gerar script SQL para inserir os dados\n",
    "script_sql = \"INSERT INTO usuarios (id, cpf, nome, email, senha, data_nascimento, tipo_conta, id_responsavel, contato_emergencia) VALUES\\n\"\n",
    "for dado in dados:\n",
    "    script_sql += f\"({dado[0]}, '{dado[1]}', '{dado[2][:50]}', '{dado[3][:100]}', '{dado[4][:100]}', '{dado[5]}', '{dado[6]}', {dado[7]}, '{dado[8][:20]}'),\\n\"\n",
    "\n",
    "# Remover a última vírgula e adicionar ponto e vírgula no final\n",
    "script_sql = script_sql.rstrip(',\\n') + ';'\n",
    "\n",
    "# Salvar script SQL em um arquivo de texto\n",
    "with open('script_insert.sql', 'w') as arquivo:\n",
    "    arquivo.write(script_sql)\n",
    "\n",
    "print(\"Script SQL gerado e salvo em 'script_insert.sql'\")"
   ]
  },
  {
   "cell_type": "markdown",
   "metadata": {},
   "source": [
    "# Criação dos dados aleatórios da tabela: **prestadores**"
   ]
  },
  {
   "cell_type": "code",
   "execution_count": 119,
   "metadata": {},
   "outputs": [
    {
     "name": "stdout",
     "output_type": "stream",
     "text": [
      "[(80366, 'Yeah management entire water. Enough site cut election game.', True, True, 24649), (45427, 'Start key realize place. Save girl price teacher over. Behind we state report could tax policy.\\nSocial theory media chair play miss. Whom audience interview.', False, False, 21634), (22901, 'Sure all condition bar affect on. Near himself course wrong traditional. Sometimes few allow magazine nature themselves body business.', True, False, 15716), (18399, 'Already single certainly night the not. Tend test avoid small tax.\\nGlass tough card inside give. Rather of sing appear left never value. Eat talk that college.', True, True, 22473), (2641, 'Head month either character drive. Fight factor require message responsibility one.\\nReal down life throw history. Stand up example.', False, False, 50079)]\n",
      "Script SQL gerado e salvo em 'script_insert_prestador.sql'\n"
     ]
    }
   ],
   "source": [
    "numero_prestadores = 0\n",
    "id_prestadores = []\n",
    "for i in range(len(dados)):\n",
    "    if dados[i][6] == 'Prestador':\n",
    "        numero_prestadores += 1\n",
    "        id_prestadores.append(dados[i][0])\n",
    "\n",
    "# print(numero_prestadores)\n",
    "# print(id_prestadores)\n",
    "\n",
    "def gerar_dados_prestadores(num_registros, ids):\n",
    "    dados_prestadores = []\n",
    "    for _ in range(num_registros):\n",
    "        id = faker.random_number(digits=5)\n",
    "        descricao = faker.text(max_nb_chars=200)\n",
    "        documento_aprovado = faker.boolean()\n",
    "        apto_servico_especifico = faker.boolean()\n",
    "        id_usuarios = ids[_]\n",
    "        dados_prestadores.append((id, descricao, documento_aprovado, apto_servico_especifico, id_usuarios))\n",
    "    return dados_prestadores\n",
    "\n",
    "# Gerar dados para prestadores\n",
    "dados_prestadores = gerar_dados_prestadores(numero_prestadores, id_prestadores)\n",
    "\n",
    "# Exibir os primeiros 5 registros para verificação\n",
    "print(dados_prestadores[:5])\n",
    "\n",
    "# Gerar script SQL para inserir os dados\n",
    "script_sql_prestador = \"INSERT INTO prestadores (id, descricao, documento_aprovado, apto_servico_especifico, id_usuarios) VALUES\\n\"\n",
    "for dado in dados_prestadores:\n",
    "    script_sql_prestador += f\"({dado[0]}, '{dado[1]}', '{dado[2]}', '{dado[3]}', '{dado[4]}'),\\n\"\n",
    "\n",
    "# Remover a última vírgula e adicionar ponto e vírgula no final\n",
    "script_sql_prestador = script_sql_prestador.rstrip(',\\n') + ';'\n",
    "\n",
    "# Salvar script SQL em um arquivo de texto\n",
    "with open('script_insert_prestador.sql', 'w') as arquivo:\n",
    "    arquivo.write(script_sql_prestador)\n",
    "\n",
    "print(\"Script SQL gerado e salvo em 'script_insert_prestador.sql'\")"
   ]
  },
  {
   "cell_type": "markdown",
   "metadata": {},
   "source": [
    "# Criação dos dados aleatórios da tabela: **servicos**"
   ]
  },
  {
   "cell_type": "code",
   "execution_count": 120,
   "metadata": {},
   "outputs": [
    {
     "name": "stdout",
     "output_type": "stream",
     "text": [
      "[(739, 'Hall, Jimenez and Reyes', 'Yeah management entire water. Enough site cut election game.', 60.38, '17:23:47', 'Acompanhante', 80366), (60584, 'Simmons, Moore and Dunn', 'Start key realize place. Save girl price teacher over. Behind we state report could tax policy.\\nSocial theory media chair play miss. Whom audience interview.', 837.99, '10:44:40', 'Cuidador', 45427), (57897, 'Owens and Sons', 'Sure all condition bar affect on. Near himself course wrong traditional. Sometimes few allow magazine nature themselves body business.', 691.32, '21:16:22', 'Massagista', 22901), (71466, 'Weber LLC', 'Already single certainly night the not. Tend test avoid small tax.\\nGlass tough card inside give. Rather of sing appear left never value. Eat talk that college.', 58.87, '22:18:10', 'Outros', 18399), (95784, 'Smith-Mclean', 'Head month either character drive. Fight factor require message responsibility one.\\nReal down life throw history. Stand up example.', 83.75, '10:34:28', 'Enfermeiro(a)', 2641)]\n",
      "Script SQL gerado e salvo em 'script_insert_servico.sql'\n"
     ]
    }
   ],
   "source": [
    "id_serv_prest = []\n",
    "descricao_servico = []\n",
    "num_serv  = len(dados_prestadores)\n",
    "for i in range(num_serv):\n",
    "    id_serv_prest.append(dados_prestadores[i][0])\n",
    "    descricao_servico.append(dados_prestadores[i][1])\n",
    "\n",
    "# Função para gerar preço aleatório\n",
    "def gerar_preco_aleatorio():\n",
    "    return round(random.uniform(10.0, 1000.0), 2)  # Gerar um número decimal entre 10.0 e 1000.0 com 2 casas decimais\n",
    "\n",
    "# Função para gerar duração estimada aleatória em formato de tempo (HH:MM:SS)\n",
    "def gerar_duracao_estimada_aleatoria():\n",
    "    horas = random.randint(0, 23)  # Gerar um número inteiro aleatório entre 0 e 23 para as horas\n",
    "    minutos = random.randint(0, 59)  # Gerar um número inteiro aleatório entre 0 e 59 para os minutos\n",
    "    segundos = random.randint(0, 59)  # Gerar um número inteiro aleatório entre 0 e 59 para os segundos\n",
    "    duracao_estimada = f\"{horas:02d}:{minutos:02d}:{segundos:02d}\"  # Formatar a duração estimada no formato HH:MM:SS\n",
    "    return duracao_estimada\n",
    "\n",
    "def gerar_dados_servicos(num_registros, ids, descricao_list):\n",
    "    dados_servicos = []\n",
    "    for _ in range(num_registros):\n",
    "        id = faker.random_number(digits=5)\n",
    "        nome = faker.company()\n",
    "        descricao = descricao_list[_]\n",
    "        preco = gerar_preco_aleatorio()\n",
    "        duracao_estimada = gerar_duracao_estimada_aleatoria()\n",
    "        tipo = random.choice(['Acompanhante', 'Cuidador', 'Motorista', 'Massagista', 'Enfermeiro(a)', 'Outros'])\n",
    "        id_prestadores = ids[_]\n",
    "        dados_servicos.append((id, nome, descricao, preco, duracao_estimada, tipo, id_prestadores))\n",
    "    return dados_servicos\n",
    "\n",
    "# Gerar dados para prestadores\n",
    "dados_servicos = gerar_dados_servicos(num_serv, id_serv_prest, descricao_servico)\n",
    "\n",
    "# Exibir os primeiros 5 registros para verificação\n",
    "print(dados_servicos[:5])\n",
    "\n",
    "# Gerar script SQL para inserir os dados\n",
    "script_sql_servico = \"INSERT INTO servicos (id, nome, descricao, preco, duracao_estimada, tipo, id_prestadores) VALUES\\n\"\n",
    "for dado in dados_servicos:\n",
    "    script_sql_servico += f\"({dado[0]}, '{dado[1]}', '{dado[2]}', '{dado[3]}', '{dado[4]}', '{dado[5]}', '{dado[6]}'),\\n\"\n",
    "\n",
    "# Remover a última vírgula e adicionar ponto e vírgula no final\n",
    "script_sql_servico = script_sql_servico.rstrip(',\\n') + ';'\n",
    "\n",
    "# Salvar script SQL em um arquivo de texto\n",
    "with open('script_insert_servico.sql', 'w') as arquivo:\n",
    "    arquivo.write(script_sql_servico)\n",
    "\n",
    "print(\"Script SQL gerado e salvo em 'script_insert_servico.sql'\")"
   ]
  },
  {
   "cell_type": "markdown",
   "metadata": {},
   "source": [
    "# Criação dos dados aleatórios da tabela: **enderecos**"
   ]
  },
  {
   "cell_type": "code",
   "execution_count": 121,
   "metadata": {},
   "outputs": [
    {
     "name": "stdout",
     "output_type": "stream",
     "text": [
      "Script SQL gerado e salvo em 'script_insert_enderecos.sql'\n"
     ]
    }
   ],
   "source": [
    "# Gerar os enumerates - Usuário ou Prestador e id_origem, a partir da tabela dados:\n",
    "prestador_usuario = []\n",
    "numero_dados = len(dados)\n",
    "for i in range(len(dados)):\n",
    "    if dados[i][6] == 'Prestador':\n",
    "        prestador_usuario.append((dados[i][0], 'servicos'))\n",
    "    else:\n",
    "        prestador_usuario.append((dados[i][0], 'usuarios'))\n",
    "\n",
    "\n",
    "# Função para gerar dados aleatórios para endereços\n",
    "def gerar_dados_enderecos(num_registros):\n",
    "    dados_enderecos = []\n",
    "    for _ in range(num_registros):\n",
    "        id_origem = prestador_usuario[_][0]\n",
    "        id = random.randint(1, 1000)\n",
    "        for i in range(len(dados_enderecos)):\n",
    "            if id == dados_enderecos[i][0]:\n",
    "                id += random.randint(1, 3)\n",
    "            else:\n",
    "                pass\n",
    "        cep = f\"{random.randint(10000, 99999)}-{random.randint(100, 999)}\"\n",
    "        logradouro = f\"{random.choice(['Rua', 'Avenida', 'Travessa', 'Alameda'])} {random.choice(['das Flores', 'dos Eucaliptos', 'das Palmeiras', 'das Acácias'])}\"\n",
    "        bairro = f\"Bairro {random.choice(['Centro', 'Jardim', 'Nova', 'Industrial'])}\"\n",
    "        numero = str(random.randint(1, 500))\n",
    "        complemento = random.choice(['', f\"AP {random.randint(101, 999)}\", f\"Casa {random.randint(1, 20)}\"])\n",
    "        tabela_origem = prestador_usuario[_][1]\n",
    "        dados_enderecos.append((id, tabela_origem, id_origem, cep, logradouro, bairro, numero, complemento))\n",
    "    return dados_enderecos\n",
    "\n",
    "# Gerar dados para endereços\n",
    "dados_enderecos = gerar_dados_enderecos(numero_dados)\n",
    "\n",
    "# Exibir os primeiros 5 registros para verificação\n",
    "# print(dados_enderecos[:5])\n",
    "\n",
    "# Gerar script SQL para inserir os dados\n",
    "script_sql_enderecos = \"INSERT INTO enderecos (id, tabela_origem, id_origem, cep, logradouro, bairro, numero, complemento) VALUES\\n\"\n",
    "for dado in dados_enderecos:\n",
    "    script_sql_enderecos += f\"({dado[0]}, '{dado[1]}', '{dado[2]}', '{dado[3]}', '{dado[4]}', '{dado[5]}', '{dado[6]}', '{dado[7]}' ),\\n\"\n",
    "\n",
    "# Remover a última vírgula e adicionar ponto e vírgula no final\n",
    "script_sql_enderecos = script_sql_enderecos.rstrip(',\\n') + ';'\n",
    "\n",
    "# Salvar script SQL em um arquivo de texto\n",
    "with open('script_insert_enderecos.sql', 'w') as arquivo:\n",
    "    arquivo.write(script_sql_enderecos)\n",
    "\n",
    "print(\"Script SQL gerado e salvo em 'script_insert_enderecos.sql'\")"
   ]
  },
  {
   "cell_type": "markdown",
   "metadata": {},
   "source": [
    "# Criação dos dados aleatórios da tabela: **agendamentos**"
   ]
  },
  {
   "cell_type": "code",
   "execution_count": 122,
   "metadata": {},
   "outputs": [
    {
     "name": "stdout",
     "output_type": "stream",
     "text": [
      "Script SQL gerado e salvo em 'script_insert_agendamento.sql'\n"
     ]
    }
   ],
   "source": [
    "\n",
    "from datetime import datetime, timedelta\n",
    "\n",
    "# Função para gerar dados aleatórios para agendamentos\n",
    "def gerar_dados_agendamentos(num_registros):\n",
    "    dados_agendamento = []\n",
    "    for _ in range(num_registros):\n",
    "        id = random.randint(1000, 2000)\n",
    "        for i in range(len(dados_agendamento)):\n",
    "            if id == dados_agendamento[i][0]:\n",
    "                id += random.randint(2001, 2501)\n",
    "            else:\n",
    "                pass\n",
    "        data_atendimento_inicio = datetime(2024, 2, random.randint(1, 28), random.randint(0, 23), random.randint(0, 59), 0)\n",
    "        data_atendimento_fim = data_atendimento_inicio + timedelta(hours=random.randint(1, 8), minutes=random.randint(0, 59))  # Data de fim é aleatória entre 1 e 8 horas depois da data de início\n",
    "        estado_agendamento = random.choice(['Agendado', 'Confirmado', 'Cancelado'])\n",
    "        valor_pago = round(random.uniform(50.0, 500.0), 2)  # Gerar um valor aleatório entre 50.0 e 500.0 com 2 casas decimais\n",
    "        if dados[_][6] == 'Prestador':\n",
    "            pass\n",
    "        else:\n",
    "            id_usuarios = dados[_][0]\n",
    "        id_servicos = dados_servicos[random.choice(range(len(dados_servicos)))][0]\n",
    "        dados_agendamento.append((id, data_atendimento_inicio, data_atendimento_fim, estado_agendamento, valor_pago, id_usuarios, id_servicos))\n",
    "    return dados_agendamento\n",
    "\n",
    "# Gerar dados para agendamentos\n",
    "dados_agendamento = gerar_dados_agendamentos(100)\n",
    "\n",
    "# Exibir os primeiros 5 registros para verificação\n",
    "# print(dados_agendamento[:5])\n",
    "\n",
    "# Gerar script SQL para inserir os dados\n",
    "script_sql_agendamento = \"INSERT INTO agendamentos (id, data_atendimento_inicio, data_atendimento_fim, estado_agendamento, valor_pago, id_usuarios, id_servicos) VALUES\\n\"\n",
    "for dado in dados_agendamento:\n",
    "    script_sql_agendamento += f\"({dado[0]}, '{dado[1]}', '{dado[2]}', '{dado[3]}', '{dado[4]}', '{dado[5]}', '{dado[6]}' ),\\n\"\n",
    "\n",
    "# Remover a última vírgula e adicionar ponto e vírgula no final\n",
    "script_sql_agendamento = script_sql_agendamento.rstrip(',\\n') + ';'\n",
    "\n",
    "# Salvar script SQL em um arquivo de texto\n",
    "with open('script_insert_agendamento.sql', 'w') as arquivo:\n",
    "    arquivo.write(script_sql_agendamento)\n",
    "\n",
    "print(\"Script SQL gerado e salvo em 'script_insert_agendamento.sql'\")"
   ]
  },
  {
   "cell_type": "markdown",
   "metadata": {},
   "source": [
    "# Criação dos dados aleatórios da tabela: **avaliacoes**"
   ]
  },
  {
   "cell_type": "code",
   "execution_count": 126,
   "metadata": {},
   "outputs": [
    {
     "name": "stdout",
     "output_type": "stream",
     "text": [
      "[(101, 5, 'Usuario>>Servico', 1741), (102, 0, 'Servico>>Usuario', 1949), (103, 5, 'Servico>>Usuario', 1463), (104, 3, 'Usuario>>Servico', 1269), (105, 4, 'Usuario>>Servico', 1893)]\n",
      "Script SQL gerado e salvo em 'script_insert_avaliacoes.sql'\n"
     ]
    }
   ],
   "source": [
    "# Função para gerar dados aleatórios para agendamentos\n",
    "def gerar_dados_avaliacoes(num_registros):\n",
    "    dados_avaliacoes = []\n",
    "    id = 0 # Se rodar mais de uma vez, lembrar de mudar o valor do id\n",
    "    for _ in range(num_registros):\n",
    "        id += 1\n",
    "        avaliacao = random.randint(0, 5)\n",
    "        tipo_avaliacao = random.choice(['Usuario>>Servico', 'Servico>>Usuario'])\n",
    "        id_agendamentos = dados_agendamento[random.choice(range(len(dados_agendamento)))][0]\n",
    "        dados_avaliacoes.append((id, avaliacao, tipo_avaliacao, id_agendamentos))\n",
    "    return dados_avaliacoes\n",
    "\n",
    "# Gerar dados para agendamentos\n",
    "dados_avaliacoes = gerar_dados_avaliacoes(100)\n",
    "\n",
    "# Exibir os primeiros 5 registros para verificação\n",
    "print(dados_avaliacoes[:5])\n",
    "\n",
    "# Gerar script SQL para inserir os dados\n",
    "script_sql_avaliacoes = \"INSERT INTO avaliacoes (id, avaliacao, tipo_avaliacao, id_agendamentos) VALUES\\n\"\n",
    "for dado in dados_avaliacoes:\n",
    "    script_sql_avaliacoes += f\"({dado[0]}, '{dado[1]}', '{dado[2]}', '{dado[3]}' ),\\n\"\n",
    "\n",
    "# Remover a última vírgula e adicionar ponto e vírgula no final\n",
    "script_sql_avaliacoes = script_sql_avaliacoes.rstrip(',\\n') + ';'\n",
    "\n",
    "# Salvar script SQL em um arquivo de texto\n",
    "with open('script_insert_avaliacoes.sql', 'w') as arquivo:\n",
    "    arquivo.write(script_sql_avaliacoes)\n",
    "\n",
    "print(\"Script SQL gerado e salvo em 'script_insert_avaliacoes.sql'\")"
   ]
  },
  {
   "cell_type": "markdown",
   "metadata": {},
   "source": []
  }
 ],
 "metadata": {
  "kernelspec": {
   "display_name": "Python 3",
   "language": "python",
   "name": "python3"
  },
  "language_info": {
   "codemirror_mode": {
    "name": "ipython",
    "version": 3
   },
   "file_extension": ".py",
   "mimetype": "text/x-python",
   "name": "python",
   "nbconvert_exporter": "python",
   "pygments_lexer": "ipython3",
   "version": "3.12.1"
  }
 },
 "nbformat": 4,
 "nbformat_minor": 2
}
